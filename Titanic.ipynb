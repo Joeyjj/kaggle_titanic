{
 "cells": [
  {
   "cell_type": "markdown",
   "metadata": {},
   "source": [
    "__Priedicting which passengers survived the Titanic shipwreck. A comparison of several [scikit-learn](https://scikit-learn.org/stable/) machine learning models.__\n",
    "\n",
    "This project applies several different predictive models to the Kaggle [Titanic: Machine Learning from Disaster](https://www.kaggle.com/c/titanic#evaluation) competition. It includes the description of each model tested as well as a full walk through of the data cleaning and feature selection. \n",
    "\n",
    "The best fit model was determined to be __RandomForestClassifier__ which yielded a Kaggle score of __79.43%__ after optimising the feature selection. \n",
    "\n",
    "__The Challenge__\n",
    "\n",
    "_The sinking of the Titanic is one of the most infamous shipwrecks in history._\n",
    "\n",
    "_On April 15, 1912, during her maiden voyage, the widely considered “unsinkable” RMS Titanic sank after colliding with an iceberg. Unfortunately, there weren’t enough lifeboats for everyone onboard, resulting in the death of 1502 out of 2224 passengers and crew._\n",
    "\n",
    "_While there was some element of luck involved in surviving, it seems some groups of people were more likely to survive than others. This challenge requires a predictive model that answers the question: “what sorts of people were more likely to survive?” using passenger data (ie name, age, gender, socio-economic class, etc)._"
   ]
  },
  {
   "cell_type": "code",
   "execution_count": 1,
   "metadata": {},
   "outputs": [],
   "source": [
    "# Load the Kaggle competition data\n",
    "import pandas as pd\n",
    "import numpy as np\n",
    "\n",
    "# training data; passenger attributes & 'Survived' flag \n",
    "train = pd.read_csv('train.csv')  \n",
    "train.head(2)\n",
    "\n",
    "train_cp = train.copy()"
   ]
  },
  {
   "cell_type": "code",
   "execution_count": 2,
   "metadata": {},
   "outputs": [
    {
     "data": {
      "text/html": [
       "<div>\n",
       "<style scoped>\n",
       "    .dataframe tbody tr th:only-of-type {\n",
       "        vertical-align: middle;\n",
       "    }\n",
       "\n",
       "    .dataframe tbody tr th {\n",
       "        vertical-align: top;\n",
       "    }\n",
       "\n",
       "    .dataframe thead th {\n",
       "        text-align: right;\n",
       "    }\n",
       "</style>\n",
       "<table border=\"1\" class=\"dataframe\">\n",
       "  <thead>\n",
       "    <tr style=\"text-align: right;\">\n",
       "      <th></th>\n",
       "      <th>PassengerId</th>\n",
       "      <th>Pclass</th>\n",
       "      <th>Name</th>\n",
       "      <th>Sex</th>\n",
       "      <th>Age</th>\n",
       "      <th>SibSp</th>\n",
       "      <th>Parch</th>\n",
       "      <th>Ticket</th>\n",
       "      <th>Fare</th>\n",
       "      <th>Cabin</th>\n",
       "      <th>Embarked</th>\n",
       "    </tr>\n",
       "  </thead>\n",
       "  <tbody>\n",
       "    <tr>\n",
       "      <td>0</td>\n",
       "      <td>892</td>\n",
       "      <td>3</td>\n",
       "      <td>Kelly, Mr. James</td>\n",
       "      <td>male</td>\n",
       "      <td>34.5</td>\n",
       "      <td>0</td>\n",
       "      <td>0</td>\n",
       "      <td>330911</td>\n",
       "      <td>7.8292</td>\n",
       "      <td>NaN</td>\n",
       "      <td>Q</td>\n",
       "    </tr>\n",
       "    <tr>\n",
       "      <td>1</td>\n",
       "      <td>893</td>\n",
       "      <td>3</td>\n",
       "      <td>Wilkes, Mrs. James (Ellen Needs)</td>\n",
       "      <td>female</td>\n",
       "      <td>47.0</td>\n",
       "      <td>1</td>\n",
       "      <td>0</td>\n",
       "      <td>363272</td>\n",
       "      <td>7.0000</td>\n",
       "      <td>NaN</td>\n",
       "      <td>S</td>\n",
       "    </tr>\n",
       "  </tbody>\n",
       "</table>\n",
       "</div>"
      ],
      "text/plain": [
       "   PassengerId  Pclass                              Name     Sex   Age  SibSp  \\\n",
       "0          892       3                  Kelly, Mr. James    male  34.5      0   \n",
       "1          893       3  Wilkes, Mrs. James (Ellen Needs)  female  47.0      1   \n",
       "\n",
       "   Parch  Ticket    Fare Cabin Embarked  \n",
       "0      0  330911  7.8292   NaN        Q  \n",
       "1      0  363272  7.0000   NaN        S  "
      ]
     },
     "execution_count": 2,
     "metadata": {},
     "output_type": "execute_result"
    }
   ],
   "source": [
    "# holdout data; identical passenger attributes, but no 'Survived' flag \n",
    "holdout = pd.read_csv('test.csv') \n",
    "holdout.head(2)"
   ]
  },
  {
   "cell_type": "code",
   "execution_count": 3,
   "metadata": {},
   "outputs": [
    {
     "data": {
      "text/plain": [
       "({'Holdout Data Count': 418},\n",
       " {'Training Data Count': 891},\n",
       " {'Holdout vs Training Percent': 46.9},\n",
       " {'Percent of All passengers': 58.9})"
      ]
     },
     "execution_count": 3,
     "metadata": {},
     "output_type": "execute_result"
    }
   ],
   "source": [
    "# We have data on ~60% of all passengers \n",
    "# Which is split as 2/3rd for training and 1/3rd for the final prediction\n",
    "\n",
    "({'Holdout Data Count':holdout.shape[0]}, \n",
    " {'Training Data Count': train.shape[0]},\n",
    " {'Holdout vs Training Percent': 100*round(holdout.shape[0]/train.shape[0],3)},\n",
    " {'Percent of All passengers': 100*round((train.shape[0]+holdout.shape[0])/2224,3)})"
   ]
  },
  {
   "cell_type": "markdown",
   "metadata": {},
   "source": [
    "# Exploring (and cleaning) the data \n",
    "\n",
    "Kaggle supply a [Data Dictionary](https://www.kaggle.com/c/titanic/data). The most obvious variables that appear to be very suitable for classifcation/data modelling are:\n",
    "\n",
    "    1. Sex \n",
    "    2. Pclass (1: Upper, 2: Middle, 3: Lower) \n",
    "    3. Age (fractional if less than 1)\n",
    "    4. SibSp (# of siblings / spouses aboard)\n",
    "    5. Parch (# of parents / children aboard - It is noted that some children travelled with Nannys (parch=0) )\n",
    "    6. Embarked (C = Cherbourg, Q = Queenstown, S = Southampton) \n",
    "\n",
    "The below columns will require further exploration, some may need to be excluded from the model.\n",
    "\n",
    "    1. PassengerId (a unique identifer supplied by Kaggle - it will definitely be excluded)\n",
    "    2. Fare (possibly a proxy for 'Pclass' and so may lead to overfitting)\n",
    "    3. Ticket (possibly unique per passenger)   \n",
    "    4. Cabin (Cabin number)\n",
    "    5. Name (Format: [Surname], [Title]. [FirstName])\n",
    "    \n",
    "## Missing Values"
   ]
  },
  {
   "cell_type": "code",
   "execution_count": 4,
   "metadata": {},
   "outputs": [
    {
     "data": {
      "text/html": [
       "<div>\n",
       "<style scoped>\n",
       "    .dataframe tbody tr th:only-of-type {\n",
       "        vertical-align: middle;\n",
       "    }\n",
       "\n",
       "    .dataframe tbody tr th {\n",
       "        vertical-align: top;\n",
       "    }\n",
       "\n",
       "    .dataframe thead th {\n",
       "        text-align: right;\n",
       "    }\n",
       "</style>\n",
       "<table border=\"1\" class=\"dataframe\">\n",
       "  <thead>\n",
       "    <tr style=\"text-align: right;\">\n",
       "      <th></th>\n",
       "      <th>Age</th>\n",
       "      <th>Fare</th>\n",
       "      <th>Cabin</th>\n",
       "      <th>Embarked</th>\n",
       "    </tr>\n",
       "  </thead>\n",
       "  <tbody>\n",
       "    <tr>\n",
       "      <td>Training</td>\n",
       "      <td>177.0</td>\n",
       "      <td>0.0</td>\n",
       "      <td>687.0</td>\n",
       "      <td>2.0</td>\n",
       "    </tr>\n",
       "    <tr>\n",
       "      <td>Holding</td>\n",
       "      <td>86.0</td>\n",
       "      <td>1.0</td>\n",
       "      <td>327.0</td>\n",
       "      <td>0.0</td>\n",
       "    </tr>\n",
       "  </tbody>\n",
       "</table>\n",
       "</div>"
      ],
      "text/plain": [
       "            Age  Fare  Cabin  Embarked\n",
       "Training  177.0   0.0  687.0       2.0\n",
       "Holding    86.0   1.0  327.0       0.0"
      ]
     },
     "execution_count": 4,
     "metadata": {},
     "output_type": "execute_result"
    }
   ],
   "source": [
    "MissingValues = pd.DataFrame([train.isnull().sum(axis=0),holdout.isnull().sum(axis=0)], \n",
    "                             index=['Training','Holding'])\n",
    "MissingValues[MissingValues.columns[MissingValues.sum(axis=0)>0]]"
   ]
  },
  {
   "cell_type": "markdown",
   "metadata": {},
   "source": [
    "__Fare__ has just one missing row, in the holding data. A simple replace with the mean will have to suffice, as per the above, we may yet drop it. \n",
    "\n",
    "__Age__ and (especially) __Cabin__ have many missing columns. These will need be be catergorised as _Unknown_. "
   ]
  },
  {
   "cell_type": "code",
   "execution_count": 5,
   "metadata": {},
   "outputs": [
    {
     "data": {
      "text/html": [
       "<div>\n",
       "<style scoped>\n",
       "    .dataframe tbody tr th:only-of-type {\n",
       "        vertical-align: middle;\n",
       "    }\n",
       "\n",
       "    .dataframe tbody tr th {\n",
       "        vertical-align: top;\n",
       "    }\n",
       "\n",
       "    .dataframe thead th {\n",
       "        text-align: right;\n",
       "    }\n",
       "</style>\n",
       "<table border=\"1\" class=\"dataframe\">\n",
       "  <thead>\n",
       "    <tr style=\"text-align: right;\">\n",
       "      <th></th>\n",
       "      <th>PassengerId</th>\n",
       "      <th>Survived</th>\n",
       "      <th>Pclass</th>\n",
       "      <th>Name</th>\n",
       "      <th>Sex</th>\n",
       "      <th>Age</th>\n",
       "      <th>SibSp</th>\n",
       "      <th>Parch</th>\n",
       "      <th>Ticket</th>\n",
       "      <th>Fare</th>\n",
       "      <th>Cabin</th>\n",
       "      <th>Embarked</th>\n",
       "    </tr>\n",
       "  </thead>\n",
       "  <tbody>\n",
       "    <tr>\n",
       "      <td>61</td>\n",
       "      <td>62</td>\n",
       "      <td>1</td>\n",
       "      <td>1</td>\n",
       "      <td>Icard, Miss. Amelie</td>\n",
       "      <td>female</td>\n",
       "      <td>38.0</td>\n",
       "      <td>0</td>\n",
       "      <td>0</td>\n",
       "      <td>113572</td>\n",
       "      <td>80.0</td>\n",
       "      <td>B28</td>\n",
       "      <td>NaN</td>\n",
       "    </tr>\n",
       "    <tr>\n",
       "      <td>829</td>\n",
       "      <td>830</td>\n",
       "      <td>1</td>\n",
       "      <td>1</td>\n",
       "      <td>Stone, Mrs. George Nelson (Martha Evelyn)</td>\n",
       "      <td>female</td>\n",
       "      <td>62.0</td>\n",
       "      <td>0</td>\n",
       "      <td>0</td>\n",
       "      <td>113572</td>\n",
       "      <td>80.0</td>\n",
       "      <td>B28</td>\n",
       "      <td>NaN</td>\n",
       "    </tr>\n",
       "  </tbody>\n",
       "</table>\n",
       "</div>"
      ],
      "text/plain": [
       "     PassengerId  Survived  Pclass                                       Name  \\\n",
       "61            62         1       1                        Icard, Miss. Amelie   \n",
       "829          830         1       1  Stone, Mrs. George Nelson (Martha Evelyn)   \n",
       "\n",
       "        Sex   Age  SibSp  Parch  Ticket  Fare Cabin Embarked  \n",
       "61   female  38.0      0      0  113572  80.0   B28      NaN  \n",
       "829  female  62.0      0      0  113572  80.0   B28      NaN  "
      ]
     },
     "execution_count": 5,
     "metadata": {},
     "output_type": "execute_result"
    }
   ],
   "source": [
    "train[train['Embarked'].isnull()]"
   ]
  },
  {
   "cell_type": "markdown",
   "metadata": {},
   "source": [
    "__Embarked__ has only two missing rows, affecting only the training data. \n",
    "\n",
    "Both the Ticket No. '113572' and Cabin ID 'B28' are unique to these two individuals. \n",
    "The first character of the Cabin ID is a letter ('B'), the remainder is a number.  \n",
    "\n",
    "Therefore the Cabin ID prefix (str[0]) can be split out and categorised. Note: For some passengers the Cabin ID suffix contains several Cabins (e.g. C23 C25 C27 - see: train[\"Cabin\"].str[1:].dropna().value_counts() ), these will be ignored."
   ]
  },
  {
   "cell_type": "code",
   "execution_count": 6,
   "metadata": {},
   "outputs": [
    {
     "data": {
      "text/plain": [
       "C    59\n",
       "B    47\n",
       "D    33\n",
       "E    32\n",
       "A    15\n",
       "F    13\n",
       "G     4\n",
       "T     1\n",
       "Name: Cabin, dtype: int64"
      ]
     },
     "execution_count": 6,
     "metadata": {},
     "output_type": "execute_result"
    }
   ],
   "source": [
    "train[\"Cabin\"].str[0].value_counts()"
   ]
  },
  {
   "cell_type": "markdown",
   "metadata": {},
   "source": [
    "There is no obvious grouping for the two passengers with missing 'Embarked'. Embarked='S' is by far the most common across all passengers (644/891) and also those with a 'B' Cabin. Therefore 'S' will be used. "
   ]
  },
  {
   "cell_type": "code",
   "execution_count": 7,
   "metadata": {},
   "outputs": [
    {
     "data": {
      "text/plain": [
       "S    23\n",
       "C    22\n",
       "Name: Embarked, dtype: int64"
      ]
     },
     "execution_count": 7,
     "metadata": {},
     "output_type": "execute_result"
    }
   ],
   "source": [
    "train[train[\"Cabin\"].str[0] == 'B']['Embarked'].value_counts()"
   ]
  },
  {
   "cell_type": "markdown",
   "metadata": {},
   "source": [
    "Next, define some functions to clean the above missing values and to further categorise other columns. Note: All of these functions will input/output the whole DataFrame and so the docstring shall contain only a brief description for each.\n",
    "\n",
    "__Age__ should be expected to be a continuous variable and will need to be converted into a categorical feature instead."
   ]
  },
  {
   "cell_type": "code",
   "execution_count": 8,
   "metadata": {},
   "outputs": [
    {
     "data": {
      "image/png": "[encoded data removed]",
      "text/plain": [
       "<Figure size 432x288 with 1 Axes>"
      ]
     },
     "metadata": {
      "needs_background": "light"
     },
     "output_type": "display_data"
    }
   ],
   "source": [
    "%matplotlib inline\n",
    "import matplotlib.pyplot as plt\n",
    "\n",
    "def plot_hist(df,column_name,v_lines=[],x_range=None):\n",
    "    \"\"\"Plot two histograms for a target column; 'Survived' and 'Died'\n",
    "    \n",
    "    Args:\n",
    "      df (DataFrame): The string to search.\n",
    "      column_name (str): The target column.\n",
    "      v_lines (list): Suitable bins for classifications    \n",
    "    \"\"\"\n",
    "\n",
    "    survived = df[df[\"Survived\"] == 1]\n",
    "    died = df[df[\"Survived\"] == 0]\n",
    "    survived[column_name].plot.hist(alpha=0.5,color='red',bins=50,range=x_range)\n",
    "    died[column_name].plot.hist(alpha=0.5,color='blue',bins=50,range=x_range)\n",
    "    plt.legend(['Survived','Died'])\n",
    "    plt.xlabel(column_name)\n",
    "    \n",
    "    for v in v_lines:\n",
    "        plt.axvline(v,c='black') \n",
    "\n",
    "    return None\n",
    "\n",
    "plot_hist(train,\"Age\",v_lines=[5,12,18,35,60])"
   ]
  },
  {
   "cell_type": "code",
   "execution_count": 9,
   "metadata": {},
   "outputs": [
    {
     "data": {
      "text/html": [
       "<div>\n",
       "<style scoped>\n",
       "    .dataframe tbody tr th:only-of-type {\n",
       "        vertical-align: middle;\n",
       "    }\n",
       "\n",
       "    .dataframe tbody tr th {\n",
       "        vertical-align: top;\n",
       "    }\n",
       "\n",
       "    .dataframe thead th {\n",
       "        text-align: right;\n",
       "    }\n",
       "</style>\n",
       "<table border=\"1\" class=\"dataframe\">\n",
       "  <thead>\n",
       "    <tr style=\"text-align: right;\">\n",
       "      <th></th>\n",
       "      <th>PassengerId</th>\n",
       "      <th>Survived</th>\n",
       "      <th>Pclass</th>\n",
       "      <th>Name</th>\n",
       "      <th>Sex</th>\n",
       "      <th>SibSp</th>\n",
       "      <th>Parch</th>\n",
       "      <th>Ticket</th>\n",
       "      <th>Fare</th>\n",
       "      <th>Cabin</th>\n",
       "      <th>Embarked</th>\n",
       "      <th>Age_Class</th>\n",
       "    </tr>\n",
       "  </thead>\n",
       "  <tbody>\n",
       "    <tr>\n",
       "      <td>886</td>\n",
       "      <td>887</td>\n",
       "      <td>0</td>\n",
       "      <td>2</td>\n",
       "      <td>Montvila, Rev. Juozas</td>\n",
       "      <td>male</td>\n",
       "      <td>0</td>\n",
       "      <td>0</td>\n",
       "      <td>211536</td>\n",
       "      <td>13.00</td>\n",
       "      <td>NaN</td>\n",
       "      <td>S</td>\n",
       "      <td>Young Adult</td>\n",
       "    </tr>\n",
       "    <tr>\n",
       "      <td>887</td>\n",
       "      <td>888</td>\n",
       "      <td>1</td>\n",
       "      <td>1</td>\n",
       "      <td>Graham, Miss. Margaret Edith</td>\n",
       "      <td>female</td>\n",
       "      <td>0</td>\n",
       "      <td>0</td>\n",
       "      <td>112053</td>\n",
       "      <td>30.00</td>\n",
       "      <td>B42</td>\n",
       "      <td>S</td>\n",
       "      <td>Young Adult</td>\n",
       "    </tr>\n",
       "    <tr>\n",
       "      <td>888</td>\n",
       "      <td>889</td>\n",
       "      <td>0</td>\n",
       "      <td>3</td>\n",
       "      <td>Johnston, Miss. Catherine Helen \"Carrie\"</td>\n",
       "      <td>female</td>\n",
       "      <td>1</td>\n",
       "      <td>2</td>\n",
       "      <td>W./C. 6607</td>\n",
       "      <td>23.45</td>\n",
       "      <td>NaN</td>\n",
       "      <td>S</td>\n",
       "      <td>Missing</td>\n",
       "    </tr>\n",
       "    <tr>\n",
       "      <td>889</td>\n",
       "      <td>890</td>\n",
       "      <td>1</td>\n",
       "      <td>1</td>\n",
       "      <td>Behr, Mr. Karl Howell</td>\n",
       "      <td>male</td>\n",
       "      <td>0</td>\n",
       "      <td>0</td>\n",
       "      <td>111369</td>\n",
       "      <td>30.00</td>\n",
       "      <td>C148</td>\n",
       "      <td>C</td>\n",
       "      <td>Young Adult</td>\n",
       "    </tr>\n",
       "    <tr>\n",
       "      <td>890</td>\n",
       "      <td>891</td>\n",
       "      <td>0</td>\n",
       "      <td>3</td>\n",
       "      <td>Dooley, Mr. Patrick</td>\n",
       "      <td>male</td>\n",
       "      <td>0</td>\n",
       "      <td>0</td>\n",
       "      <td>370376</td>\n",
       "      <td>7.75</td>\n",
       "      <td>NaN</td>\n",
       "      <td>Q</td>\n",
       "      <td>Young Adult</td>\n",
       "    </tr>\n",
       "  </tbody>\n",
       "</table>\n",
       "</div>"
      ],
      "text/plain": [
       "     PassengerId  Survived  Pclass                                      Name  \\\n",
       "886          887         0       2                     Montvila, Rev. Juozas   \n",
       "887          888         1       1              Graham, Miss. Margaret Edith   \n",
       "888          889         0       3  Johnston, Miss. Catherine Helen \"Carrie\"   \n",
       "889          890         1       1                     Behr, Mr. Karl Howell   \n",
       "890          891         0       3                       Dooley, Mr. Patrick   \n",
       "\n",
       "        Sex  SibSp  Parch      Ticket   Fare Cabin Embarked    Age_Class  \n",
       "886    male      0      0      211536  13.00   NaN        S  Young Adult  \n",
       "887  female      0      0      112053  30.00   B42        S  Young Adult  \n",
       "888  female      1      2  W./C. 6607  23.45   NaN        S      Missing  \n",
       "889    male      0      0      111369  30.00  C148        C  Young Adult  \n",
       "890    male      0      0      370376   7.75   NaN        Q  Young Adult  "
      ]
     },
     "execution_count": 9,
     "metadata": {},
     "output_type": "execute_result"
    }
   ],
   "source": [
    "def clean_age(df):\n",
    "    '''Group into age bins and flag the missing values.'''    \n",
    "    \n",
    "    df[\"Age\"] = df[\"Age\"].fillna(-0.5) # Min should be Zero\n",
    "    cut_points = [-1,0,5,12,18,35,60,100] # The above (bounded) 'v_lines'\n",
    "    label_names = [\"Missing\",\"Infant\",\"Child\",\"Teenager\",\"Young Adult\",\"Adult\",\"Senior\"]\n",
    "    df['Age_Class'] = pd.cut(df[\"Age\"],cut_points,labels=label_names)    \n",
    "    return df.drop(columns='Age')\n",
    "\n",
    "clean_age(train).tail(5)"
   ]
  },
  {
   "cell_type": "code",
   "execution_count": 10,
   "metadata": {},
   "outputs": [],
   "source": [
    "def clean_cabin(df):\n",
    "    '''Split out the first character and flag the missing values.'''   \n",
    "\n",
    "    df[\"Cabin\"] = df[\"Cabin\"].str[0]\n",
    "    df[\"Cabin\"] = df[\"Cabin\"].fillna(\"UKN\")    \n",
    "    return df"
   ]
  },
  {
   "cell_type": "code",
   "execution_count": 11,
   "metadata": {},
   "outputs": [],
   "source": [
    "def clean_missing(df):\n",
    "    \"\"\"Clean the remaining missing Columns\"\"\"\n",
    "    \n",
    "    df[\"Fare\"] = df[\"Fare\"].fillna(df[\"Fare\"].mean())\n",
    "    df[\"Embarked\"] = df[\"Embarked\"].fillna(\"S\")\n",
    "    return df"
   ]
  },
  {
   "cell_type": "markdown",
   "metadata": {},
   "source": [
    "## Further data categorisation\n",
    "\n",
    "The initial hypothesis is that the __Ticket__ number will be unique per passenger. If so, it will offer only noise to the fit and will need to be dropped. "
   ]
  },
  {
   "cell_type": "code",
   "execution_count": 12,
   "metadata": {},
   "outputs": [
    {
     "name": "stdout",
     "output_type": "stream",
     "text": [
      "Unique 'PassengerId' Count:\t891\n",
      "Unique 'Ticket' Count:\t\t681\n",
      "\n",
      "CA. 2343    7\n",
      "347082      7\n",
      "Name: Ticket, dtype: int64\n"
     ]
    }
   ],
   "source": [
    "print(\"Unique 'PassengerId' Count:\\t{}\\nUnique 'Ticket' Count:\\t\\t{}\".format(\n",
    "    len(train['PassengerId'].unique()),len(train['Ticket'].unique())))\n",
    "\n",
    "largest_ticket_groups = train['Ticket'].value_counts().head(2)\n",
    "\n",
    "print(\"\\n{}\".format(largest_ticket_groups))"
   ]
  },
  {
   "cell_type": "markdown",
   "metadata": {},
   "source": [
    "However __Ticket__ is not only _not_ unique per passenger but it is not even unique per family. For example, Ticket 'CA. 2343' belongs to the 'Sage' family, whereas Ticket '1601' appears to be a mix of friends and family, given that the two passengers share the same Surname ('Lam'). They are not flagged as Siblings, but this is probably expected for Adult passengers, unfortunately their ages are not specified. \n",
    "\n",
    "We will explore the data further but may return to this point."
   ]
  },
  {
   "cell_type": "code",
   "execution_count": 13,
   "metadata": {},
   "outputs": [
    {
     "data": {
      "text/html": [
       "<div>\n",
       "<style scoped>\n",
       "    .dataframe tbody tr th:only-of-type {\n",
       "        vertical-align: middle;\n",
       "    }\n",
       "\n",
       "    .dataframe tbody tr th {\n",
       "        vertical-align: top;\n",
       "    }\n",
       "\n",
       "    .dataframe thead th {\n",
       "        text-align: right;\n",
       "    }\n",
       "</style>\n",
       "<table border=\"1\" class=\"dataframe\">\n",
       "  <thead>\n",
       "    <tr style=\"text-align: right;\">\n",
       "      <th></th>\n",
       "      <th>Ticket</th>\n",
       "      <th>Name</th>\n",
       "      <th>SibSp</th>\n",
       "      <th>Parch</th>\n",
       "      <th>Age</th>\n",
       "    </tr>\n",
       "  </thead>\n",
       "  <tbody>\n",
       "    <tr>\n",
       "      <td>13</td>\n",
       "      <td>347082</td>\n",
       "      <td>Andersson, Mr. Anders Johan</td>\n",
       "      <td>1</td>\n",
       "      <td>5</td>\n",
       "      <td>39.0</td>\n",
       "    </tr>\n",
       "    <tr>\n",
       "      <td>119</td>\n",
       "      <td>347082</td>\n",
       "      <td>Andersson, Miss. Ellis Anna Maria</td>\n",
       "      <td>4</td>\n",
       "      <td>2</td>\n",
       "      <td>2.0</td>\n",
       "    </tr>\n",
       "    <tr>\n",
       "      <td>541</td>\n",
       "      <td>347082</td>\n",
       "      <td>Andersson, Miss. Ingeborg Constanzia</td>\n",
       "      <td>4</td>\n",
       "      <td>2</td>\n",
       "      <td>9.0</td>\n",
       "    </tr>\n",
       "    <tr>\n",
       "      <td>542</td>\n",
       "      <td>347082</td>\n",
       "      <td>Andersson, Miss. Sigrid Elisabeth</td>\n",
       "      <td>4</td>\n",
       "      <td>2</td>\n",
       "      <td>11.0</td>\n",
       "    </tr>\n",
       "    <tr>\n",
       "      <td>610</td>\n",
       "      <td>347082</td>\n",
       "      <td>Andersson, Mrs. Anders Johan (Alfrida Konstant...</td>\n",
       "      <td>1</td>\n",
       "      <td>5</td>\n",
       "      <td>39.0</td>\n",
       "    </tr>\n",
       "    <tr>\n",
       "      <td>813</td>\n",
       "      <td>347082</td>\n",
       "      <td>Andersson, Miss. Ebba Iris Alfrida</td>\n",
       "      <td>4</td>\n",
       "      <td>2</td>\n",
       "      <td>6.0</td>\n",
       "    </tr>\n",
       "    <tr>\n",
       "      <td>850</td>\n",
       "      <td>347082</td>\n",
       "      <td>Andersson, Master. Sigvard Harald Elias</td>\n",
       "      <td>4</td>\n",
       "      <td>2</td>\n",
       "      <td>4.0</td>\n",
       "    </tr>\n",
       "    <tr>\n",
       "      <td>159</td>\n",
       "      <td>CA. 2343</td>\n",
       "      <td>Sage, Master. Thomas Henry</td>\n",
       "      <td>8</td>\n",
       "      <td>2</td>\n",
       "      <td>-0.5</td>\n",
       "    </tr>\n",
       "    <tr>\n",
       "      <td>180</td>\n",
       "      <td>CA. 2343</td>\n",
       "      <td>Sage, Miss. Constance Gladys</td>\n",
       "      <td>8</td>\n",
       "      <td>2</td>\n",
       "      <td>-0.5</td>\n",
       "    </tr>\n",
       "    <tr>\n",
       "      <td>201</td>\n",
       "      <td>CA. 2343</td>\n",
       "      <td>Sage, Mr. Frederick</td>\n",
       "      <td>8</td>\n",
       "      <td>2</td>\n",
       "      <td>-0.5</td>\n",
       "    </tr>\n",
       "    <tr>\n",
       "      <td>324</td>\n",
       "      <td>CA. 2343</td>\n",
       "      <td>Sage, Mr. George John Jr</td>\n",
       "      <td>8</td>\n",
       "      <td>2</td>\n",
       "      <td>-0.5</td>\n",
       "    </tr>\n",
       "    <tr>\n",
       "      <td>792</td>\n",
       "      <td>CA. 2343</td>\n",
       "      <td>Sage, Miss. Stella Anna</td>\n",
       "      <td>8</td>\n",
       "      <td>2</td>\n",
       "      <td>-0.5</td>\n",
       "    </tr>\n",
       "    <tr>\n",
       "      <td>846</td>\n",
       "      <td>CA. 2343</td>\n",
       "      <td>Sage, Mr. Douglas Bullen</td>\n",
       "      <td>8</td>\n",
       "      <td>2</td>\n",
       "      <td>-0.5</td>\n",
       "    </tr>\n",
       "    <tr>\n",
       "      <td>863</td>\n",
       "      <td>CA. 2343</td>\n",
       "      <td>Sage, Miss. Dorothy Edith \"Dolly\"</td>\n",
       "      <td>8</td>\n",
       "      <td>2</td>\n",
       "      <td>-0.5</td>\n",
       "    </tr>\n",
       "  </tbody>\n",
       "</table>\n",
       "</div>"
      ],
      "text/plain": [
       "       Ticket                                               Name  SibSp  \\\n",
       "13     347082                        Andersson, Mr. Anders Johan      1   \n",
       "119    347082                  Andersson, Miss. Ellis Anna Maria      4   \n",
       "541    347082               Andersson, Miss. Ingeborg Constanzia      4   \n",
       "542    347082                  Andersson, Miss. Sigrid Elisabeth      4   \n",
       "610    347082  Andersson, Mrs. Anders Johan (Alfrida Konstant...      1   \n",
       "813    347082                 Andersson, Miss. Ebba Iris Alfrida      4   \n",
       "850    347082            Andersson, Master. Sigvard Harald Elias      4   \n",
       "159  CA. 2343                         Sage, Master. Thomas Henry      8   \n",
       "180  CA. 2343                       Sage, Miss. Constance Gladys      8   \n",
       "201  CA. 2343                                Sage, Mr. Frederick      8   \n",
       "324  CA. 2343                           Sage, Mr. George John Jr      8   \n",
       "792  CA. 2343                            Sage, Miss. Stella Anna      8   \n",
       "846  CA. 2343                           Sage, Mr. Douglas Bullen      8   \n",
       "863  CA. 2343                  Sage, Miss. Dorothy Edith \"Dolly\"      8   \n",
       "\n",
       "     Parch   Age  \n",
       "13       5  39.0  \n",
       "119      2   2.0  \n",
       "541      2   9.0  \n",
       "542      2  11.0  \n",
       "610      5  39.0  \n",
       "813      2   6.0  \n",
       "850      2   4.0  \n",
       "159      2  -0.5  \n",
       "180      2  -0.5  \n",
       "201      2  -0.5  \n",
       "324      2  -0.5  \n",
       "792      2  -0.5  \n",
       "846      2  -0.5  \n",
       "863      2  -0.5  "
      ]
     },
     "execution_count": 13,
     "metadata": {},
     "output_type": "execute_result"
    }
   ],
   "source": [
    "train[train['Ticket'].isin(largest_ticket_groups.index)][['Ticket','Name','SibSp','Parch','Age']].sort_values(['Ticket'])"
   ]
  },
  {
   "cell_type": "markdown",
   "metadata": {},
   "source": [
    "__Fare__ is possibly a proxy for __Pclass__ and so may lead to overfitting. However __Pclass__ has only three classifications whereas __Fare__ is a continuous variable. "
   ]
  },
  {
   "cell_type": "code",
   "execution_count": 14,
   "metadata": {},
   "outputs": [
    {
     "data": {
      "image/png": "[encoded data removed]",
      "text/plain": [
       "<Figure size 432x288 with 1 Axes>"
      ]
     },
     "metadata": {
      "needs_background": "light"
     },
     "output_type": "display_data"
    }
   ],
   "source": [
    "plot_hist(train,\"Fare\",v_lines=[12,50,100],x_range=(0,150))"
   ]
  },
  {
   "cell_type": "code",
   "execution_count": 15,
   "metadata": {},
   "outputs": [],
   "source": [
    "def clean_fare(df):\n",
    "    \"\"\"Group into bins and replace the missing values.\"\"\"\n",
    "\n",
    "    cut_points = [-1,12,50,100,1000]\n",
    "    label_names = [\"0-12\",\"12-50\",\"50-100\",\"100+\"]\n",
    "    df[\"Fare\"] = pd.cut(df[\"Fare\"],cut_points,labels=label_names)\n",
    "    return df"
   ]
  },
  {
   "cell_type": "markdown",
   "metadata": {},
   "source": [
    "## Inferred Attributes \n",
    "\n",
    "__Name__ follows the form: [Surname], [Title]. [FirstName], classified with the ticket number we can possibly group passengers into families. However __SibSp__ and __Parch__ also group passengers and families. "
   ]
  },
  {
   "cell_type": "code",
   "execution_count": 16,
   "metadata": {},
   "outputs": [
    {
     "data": {
      "text/plain": [
       "Text(0.5, 0, '# per passenger')"
      ]
     },
     "execution_count": 16,
     "metadata": {},
     "output_type": "execute_result"
    },
    {
     "data": {
      "image/png": "[encoded data removed]",
      "text/plain": [
       "<Figure size 432x288 with 2 Axes>"
      ]
     },
     "metadata": {
      "needs_background": "light"
     },
     "output_type": "display_data"
    }
   ],
   "source": [
    "f, (ax1, ax2) = plt.subplots(1, 2)\n",
    "\n",
    "survived = train['Survived'] == True\n",
    "\n",
    "ax1.hist(train['SibSp'][~survived], label='Died',alpha=0.5)\n",
    "ax1.hist(train['SibSp'][survived], label='Survived',alpha=0.5)\n",
    "ax1.legend(loc='upper right')\n",
    "\n",
    "ax2.hist(train['Parch'][~survived], label='Died',alpha=0.5)\n",
    "ax2.hist(train['Parch'][survived], label='Survived',alpha=0.5)\n",
    "\n",
    "ax1.set_title('Siblings or Spouses')\n",
    "ax2.set_title('Parents or Children')\n",
    "ax1.set_xlabel('# per passenger')\n",
    "ax2.set_xlabel('# per passenger')"
   ]
  },
  {
   "cell_type": "markdown",
   "metadata": {},
   "source": [
    "It is clear that a passenger is much more likely to die if they did not have any siblings/spouse. The same is true for passengers that did not have any parents or children. \n",
    "\n",
    "The survival rate moves closer to even if a passenger has 1 or 2 of either group, whereas the survival rate for a passenger with many siblings decreases significantly. However the numbers are small and so it is likely a small handful of families where all members died. "
   ]
  },
  {
   "cell_type": "code",
   "execution_count": 17,
   "metadata": {},
   "outputs": [
    {
     "data": {
      "text/plain": [
       "0    5.294118\n",
       "1    0.588235\n",
       "Name: Survived, dtype: float64"
      ]
     },
     "execution_count": 17,
     "metadata": {},
     "output_type": "execute_result"
    }
   ],
   "source": [
    "big_familes = train[(train['SibSp'] >= 4)]\n",
    "big_familes['Survived'].value_counts()/big_familes['SibSp'].mean()"
   ]
  },
  {
   "cell_type": "code",
   "execution_count": 18,
   "metadata": {},
   "outputs": [
    {
     "data": {
      "text/plain": [
       "0    69.646182\n",
       "1    30.353818\n",
       "Name: Survived, dtype: float64"
      ]
     },
     "execution_count": 18,
     "metadata": {},
     "output_type": "execute_result"
    }
   ],
   "source": [
    "lone_travelers = train[(train['SibSp'] == 0) & (train['Parch'] == 0)]\n",
    "lone_travelers['Survived'].value_counts(normalize=True)*100"
   ]
  },
  {
   "cell_type": "markdown",
   "metadata": {},
   "source": [
    "A passenger is more than twice as likely to die if they were alone and signficantly more likely to die if they had a large family. \n",
    "\n",
    "However it was seen earlier that Ticket '1601' was shared by 7 people and even though two passengers shared the same Surname ('Lam'), neither has a non-zero __SibSp__ or __Parch__ value. These people are flagged above as alone, but this is undoubtedly untrue and so they should be classified as such. "
   ]
  },
  {
   "cell_type": "code",
   "execution_count": 19,
   "metadata": {},
   "outputs": [
    {
     "data": {
      "text/plain": [
       "Text(0, 0.5, 'Group Size')"
      ]
     },
     "execution_count": 19,
     "metadata": {},
     "output_type": "execute_result"
    },
    {
     "data": {
      "image/png": "[encoded data removed]",
      "text/plain": [
       "<Figure size 432x288 with 1 Axes>"
      ]
     },
     "metadata": {
      "needs_background": "light"
     },
     "output_type": "display_data"
    }
   ],
   "source": [
    "# Group Tickets to infer Group Size\n",
    "ticket_size = train['Ticket'].value_counts().to_frame().reset_index()\n",
    "ticket_size = ticket_size.rename(columns={'index':'Ticket','Ticket':'ticket_size'})\n",
    "ticket_size = train.merge(ticket_size,how='left',on='Ticket')\n",
    "pivot_ticket = ticket_size.pivot_table(index=['ticket_size'],values=\"Survived\")\n",
    "\n",
    "# Sum SibSp and Parch to infer Family Size\n",
    "family_size = train[[\"SibSp\",\"Parch\",\"Survived\"]].copy()\n",
    "# +1 because '0' family signals lone traveler\n",
    "family_size['family_size'] = family_size[[\"SibSp\",\"Parch\"]].sum(axis=1) + 1 \n",
    "pivot_family = family_size.pivot_table(index=['family_size'],values=\"Survived\")\n",
    "\n",
    "# merge and reshape\n",
    "total_size = pd.merge(pivot_ticket.reset_index(),pivot_family.reset_index(),suffixes=('_t','_f'),\n",
    "                      left_on='ticket_size', right_on='family_size',how='outer')\n",
    "total_size['size'] = total_size[['ticket_size','family_size']].max(axis=1)\n",
    "total_size = total_size.set_index('size')[['Survived_t','Survived_f']].fillna(0)\n",
    "\n",
    "# Plot\n",
    "ax = total_size.rename(columns={'Survived_t':'Ticket','Survived_f':'Family'}).plot.barh(xlim=(0,1))\n",
    "ax.set_xlabel('Survival Rate')\n",
    "ax.set_ylabel('Group Size')"
   ]
  },
  {
   "cell_type": "markdown",
   "metadata": {},
   "source": [
    "Grouping the passengers by both family size and ticket size will cause a significant overlap since it is likely that a single family will be on one ticket. \n",
    "\n",
    "However in addition to the aforementioned 'unrelated travellers (such as ticket '1601') the Kaggle Data dictionary does explicitly state that a child traveling with a nanny would have __Parch__=0.\n",
    "\n",
    "Therefore both the Family size (__Parch__ + __SibSp__) and Ticket size will be used to define a single feature _Group Size_ - which will be split into three categories; \n",
    "    1. Alone (low chance of survival)\n",
    "    2. Midsize (good chance of survival)\n",
    "    3. Large (low chance of survival)"
   ]
  },
  {
   "cell_type": "code",
   "execution_count": 20,
   "metadata": {},
   "outputs": [
    {
     "data": {
      "text/plain": [
       "Alone      694\n",
       "MidSize    519\n",
       "Large       96\n",
       "Name: Group_Size, dtype: int64"
      ]
     },
     "execution_count": 20,
     "metadata": {},
     "output_type": "execute_result"
    }
   ],
   "source": [
    "def group_size(df):\n",
    "    '''Determine the size of the group to which each passenge belongs'''\n",
    "    \n",
    "    df_cp = df.copy()    \n",
    "    \n",
    "    # Group as defined by Family, +1 because '0' family signals lone traveler\n",
    "    df_cp['family_size'] = df_cp[['SibSp','Parch']].sum(axis=1) + 1 \n",
    "\n",
    "    # Group as definted by Ticket\n",
    "    ticket_size = df_cp['Ticket'].value_counts().to_frame().reset_index()\n",
    "    ticket_size = ticket_size.rename(columns={'index':'Ticket','Ticket':'ticket_size'})\n",
    "    df_cp['ticket_size'] = pd.merge(df_cp,ticket_size,how='left',on='Ticket')['ticket_size']\n",
    "    \n",
    "    # Pick the largest value from each\n",
    "    df_cp['max_size'] = df_cp[['family_size','ticket_size']].max(axis=1)\n",
    "\n",
    "    # New col Group_Size, from the three bins, Alone, MidSize and Large\n",
    "    df_cp.loc[df_cp['max_size'] == 1, 'Group_Size'] = 'Alone'\n",
    "    df_cp.loc[df_cp['max_size'] >= 5, 'Group_Size'] = 'Large'\n",
    "    df_cp.loc[((df_cp['max_size'] > 1) & (df_cp['max_size'] <= 4)), 'Group_Size'] = 'MidSize'\n",
    "\n",
    "    # Drop helper cols and overlaps.\n",
    "    return df_cp.drop(columns=['family_size','ticket_size','max_size','Ticket','SibSp','Parch'])\n",
    "\n",
    "group_size(train)['Group_Size'].value_counts(dropna=False)+group_size(holdout)['Group_Size'].value_counts(dropna=False)"
   ]
  },
  {
   "cell_type": "markdown",
   "metadata": {},
   "source": [
    "Each passenger's __Name__ follows the form: [Surname], [Title]. [FirstName]. We've already categorised each passenger to a group size which makes the Surname redundant. \n",
    "\n",
    "The __Sex__ of each passenger is only a binary classification, whereas the passenger [Title] could be used to create a more broad classification. \n",
    "\n",
    "This could be very useful because __Sex__ is a strong indictor of survival:"
   ]
  },
  {
   "cell_type": "code",
   "execution_count": 21,
   "metadata": {},
   "outputs": [
    {
     "data": {
      "text/plain": [
       "<matplotlib.axes._subplots.AxesSubplot at 0x7fc557217fd0>"
      ]
     },
     "execution_count": 21,
     "metadata": {},
     "output_type": "execute_result"
    },
    {
     "data": {
      "image/png": "[encoded data removed]",
      "text/plain": [
       "<Figure size 432x288 with 1 Axes>"
      ]
     },
     "metadata": {
      "needs_background": "light"
     },
     "output_type": "display_data"
    }
   ],
   "source": [
    "sex_pivot = train.pivot_table(index=\"Sex\",values=\"Survived\")\n",
    "sex_pivot.plot.barh(xlim=(0,1))"
   ]
  },
  {
   "cell_type": "code",
   "execution_count": 22,
   "metadata": {},
   "outputs": [
    {
     "data": {
      "text/plain": [
       "Mr         240\n",
       "Miss        78\n",
       "Mrs         73\n",
       "Master      21\n",
       "Serivce      3\n",
       "Officer      2\n",
       "Royalty      1\n",
       "Name: Title, dtype: int64"
      ]
     },
     "execution_count": 22,
     "metadata": {},
     "output_type": "execute_result"
    }
   ],
   "source": [
    "title_map = {\n",
    "    \"Mr\" :         \"Mr\",\n",
    "    \"Mme\":         \"Mrs\",\n",
    "    \"Ms\":          \"Mrs\",\n",
    "    \"Mrs\" :        \"Mrs\",\n",
    "    \"Master\" :     \"Master\",\n",
    "    \"Mlle\":        \"Miss\",\n",
    "    \"Miss\" :       \"Miss\",\n",
    "    \"Capt\":        \"Officer\",\n",
    "    \"Col\":         \"Officer\",\n",
    "    \"Major\":       \"Officer\",\n",
    "    \"Dr\":          \"Serivce\",\n",
    "    \"Rev\":         \"Serivce\",\n",
    "    \"Jonkheer\":    \"Royalty\",\n",
    "    \"Don\":         \"Royalty\",\n",
    "    \"Sir\" :        \"Royalty\",\n",
    "    \"Countess\":    \"Royalty\",\n",
    "    \"Dona\":        \"Royalty\",\n",
    "    \"Lady\" :       \"Royalty\"\n",
    "    }\n",
    "\n",
    "def extract_titles(df):\n",
    "    \"\"\"Extract and categorize the title from the name column \"\"\"\n",
    "\n",
    "    extracted_titles = df['Name'].str.extract(' ([A-Za-z]+)\\.',expand=False)\n",
    "    df['Title'] = extracted_titles.map(title_map)\n",
    "  \n",
    "    return df\n",
    "\n",
    "extract_titles(holdout)['Title'].value_counts(dropna=False)"
   ]
  },
  {
   "cell_type": "code",
   "execution_count": 23,
   "metadata": {},
   "outputs": [
    {
     "data": {
      "text/plain": [
       "Mr_male           517\n",
       "Miss_female       184\n",
       "Mrs_female        127\n",
       "Master_male        40\n",
       "Serivce_male       12\n",
       "Officer_male        5\n",
       "Royalty_male        3\n",
       "Royalty_female      2\n",
       "Serivce_female      1\n",
       "dtype: int64"
      ]
     },
     "execution_count": 23,
     "metadata": {},
     "output_type": "execute_result"
    },
    {
     "data": {
      "image/png": "[encoded data removed]",
      "text/plain": [
       "<Figure size 432x288 with 1 Axes>"
      ]
     },
     "metadata": {
      "needs_background": "light"
     },
     "output_type": "display_data"
    }
   ],
   "source": [
    "titles = extract_titles(train)\n",
    "\n",
    "train_pivot = titles.pivot_table(index=[\"Title\",'Sex'],values=\"Survived\")\n",
    "train_pivot.plot.barh(xlim=(0,1))\n",
    "\n",
    "(titles['Title'] + '_' + titles['Sex']).value_counts()"
   ]
  },
  {
   "cell_type": "markdown",
   "metadata": {},
   "source": [
    "The _Serivce_ and _Royalty_ __Title__ do not disambiguate the __Sex__ of a passenger and there is a strong split between the survival rates of each Sex within these categories. \n",
    "\n",
    "However because the majority of passengers do not fall into either of these categories, there is the risk of overfitting the model if the __Sex__ of each passenger in addition to the __Title__. \n",
    "\n",
    "Because there is only one _Serivce_female_ passenger we should not segment the passengers into such a fine category. \n",
    "\n",
    "From the above it is seen that >70% of all female passengers survived. It is also known (as popularised by the film _Titanic_ ) that the wealthy survived in greater numbers. For this reason it is likely that all _Female Royals_ survived the Titanic. Grouping all royals together would give the chance of survival for a female royal =60%, i.e. less than the average female passenger. There is only one (female) Royal in all of the Holdout data so the risk of overfitting is small."
   ]
  },
  {
   "cell_type": "code",
   "execution_count": 24,
   "metadata": {},
   "outputs": [],
   "source": [
    "# Rewrite/rerun extract_titles() to segment Royals \n",
    "\n",
    "title_map[\"Countess\"] = \"Royalty_Fe\"\n",
    "title_map[\"Dona\"] = \"Royalty_Fe\"\n",
    "title_map[\"Lady\"] = \"Royalty_Fe\"\n",
    "\n",
    "def extract_titles(df):\n",
    "    \"\"\"Extract and categorize the title from the name column \"\"\"\n",
    "    \n",
    "    extracted_titles = df['Name'].str.extract(' ([A-Za-z]+)\\.',expand=False)\n",
    "    df['Title'] = extracted_titles.map(title_map)\n",
    "  \n",
    "    df.drop(columns=['Name'],inplace=True) # Name now redundant\n",
    "    df.drop(columns=['Sex'],inplace=True)  # Sex now redundant\n",
    "    return df "
   ]
  },
  {
   "cell_type": "code",
   "execution_count": 25,
   "metadata": {},
   "outputs": [
    {
     "data": {
      "text/plain": [
       "1306"
      ]
     },
     "execution_count": 25,
     "metadata": {},
     "output_type": "execute_result"
    }
   ],
   "source": [
    "holdout_royal = holdout.copy()\n",
    "holdout_royal = extract_titles(holdout_royal)\n",
    "holdout_royal_id = int(holdout_royal[holdout_royal['Title'] == \"Royalty_Fe\"]['PassengerId'])\n",
    "holdout_royal_id # as it is only a single row it will be fun to spot check this later"
   ]
  },
  {
   "cell_type": "markdown",
   "metadata": {},
   "source": [
    "## Final Format\n",
    "Clean both data sets and create dummy columns"
   ]
  },
  {
   "cell_type": "code",
   "execution_count": 26,
   "metadata": {},
   "outputs": [],
   "source": [
    "def create_dummies(df,column_name,dummy_dict):\n",
    "    \"\"\"Create Dummy Columns (One Hot Encoding) from a single Column\"\"\"\n",
    "    dummies = pd.get_dummies(df[column_name],prefix=column_name)\n",
    "    df = pd.concat([df,dummies],axis=1)\n",
    "    \n",
    "    dummy_dict[column_name] = dummies.columns\n",
    "    return df.drop(columns=[column_name]), dummy_dict"
   ]
  },
  {
   "cell_type": "code",
   "execution_count": 27,
   "metadata": {},
   "outputs": [],
   "source": [
    "def full_load(df):\n",
    "    df = clean_age(df)\n",
    "    df = clean_cabin(df)\n",
    "    df = clean_missing(df)\n",
    "    df = clean_fare(df)\n",
    "    df = group_size(df)    \n",
    "    df = extract_titles(df)\n",
    "\n",
    "    dummy_dict = {}\n",
    "    for col in ['Pclass','Age_Class', 'Cabin', 'Fare', 'Embarked', 'Title', 'Group_Size']:\n",
    "         df,dummy_dict = create_dummies(df,col,dummy_dict)\n",
    "            \n",
    "    return df, dummy_dict\n",
    "\n",
    "train_pre = train.copy()\n",
    "holdout_pre = holdout.copy()"
   ]
  },
  {
   "cell_type": "code",
   "execution_count": 28,
   "metadata": {},
   "outputs": [
    {
     "data": {
      "text/html": [
       "<div>\n",
       "<style scoped>\n",
       "    .dataframe tbody tr th:only-of-type {\n",
       "        vertical-align: middle;\n",
       "    }\n",
       "\n",
       "    .dataframe tbody tr th {\n",
       "        vertical-align: top;\n",
       "    }\n",
       "\n",
       "    .dataframe thead th {\n",
       "        text-align: right;\n",
       "    }\n",
       "</style>\n",
       "<table border=\"1\" class=\"dataframe\">\n",
       "  <thead>\n",
       "    <tr style=\"text-align: right;\">\n",
       "      <th></th>\n",
       "      <th>PassengerId</th>\n",
       "      <th>Survived</th>\n",
       "      <th>Pclass_1</th>\n",
       "      <th>Pclass_2</th>\n",
       "      <th>Pclass_3</th>\n",
       "      <th>Age_Class_Missing</th>\n",
       "      <th>Age_Class_Infant</th>\n",
       "      <th>Age_Class_Child</th>\n",
       "      <th>Age_Class_Teenager</th>\n",
       "      <th>Age_Class_Young Adult</th>\n",
       "      <th>...</th>\n",
       "      <th>Title_Miss</th>\n",
       "      <th>Title_Mr</th>\n",
       "      <th>Title_Mrs</th>\n",
       "      <th>Title_Officer</th>\n",
       "      <th>Title_Royalty</th>\n",
       "      <th>Title_Royalty_Fe</th>\n",
       "      <th>Title_Serivce</th>\n",
       "      <th>Group_Size_Alone</th>\n",
       "      <th>Group_Size_Large</th>\n",
       "      <th>Group_Size_MidSize</th>\n",
       "    </tr>\n",
       "  </thead>\n",
       "  <tbody>\n",
       "    <tr>\n",
       "      <td>0</td>\n",
       "      <td>1</td>\n",
       "      <td>0</td>\n",
       "      <td>0</td>\n",
       "      <td>0</td>\n",
       "      <td>1</td>\n",
       "      <td>0</td>\n",
       "      <td>0</td>\n",
       "      <td>0</td>\n",
       "      <td>0</td>\n",
       "      <td>1</td>\n",
       "      <td>...</td>\n",
       "      <td>0</td>\n",
       "      <td>1</td>\n",
       "      <td>0</td>\n",
       "      <td>0</td>\n",
       "      <td>0</td>\n",
       "      <td>0</td>\n",
       "      <td>0</td>\n",
       "      <td>0</td>\n",
       "      <td>0</td>\n",
       "      <td>1</td>\n",
       "    </tr>\n",
       "    <tr>\n",
       "      <td>1</td>\n",
       "      <td>2</td>\n",
       "      <td>1</td>\n",
       "      <td>1</td>\n",
       "      <td>0</td>\n",
       "      <td>0</td>\n",
       "      <td>0</td>\n",
       "      <td>0</td>\n",
       "      <td>0</td>\n",
       "      <td>0</td>\n",
       "      <td>0</td>\n",
       "      <td>...</td>\n",
       "      <td>0</td>\n",
       "      <td>0</td>\n",
       "      <td>1</td>\n",
       "      <td>0</td>\n",
       "      <td>0</td>\n",
       "      <td>0</td>\n",
       "      <td>0</td>\n",
       "      <td>0</td>\n",
       "      <td>0</td>\n",
       "      <td>1</td>\n",
       "    </tr>\n",
       "  </tbody>\n",
       "</table>\n",
       "<p>2 rows × 39 columns</p>\n",
       "</div>"
      ],
      "text/plain": [
       "   PassengerId  Survived  Pclass_1  Pclass_2  Pclass_3  Age_Class_Missing  \\\n",
       "0            1         0         0         0         1                  0   \n",
       "1            2         1         1         0         0                  0   \n",
       "\n",
       "   Age_Class_Infant  Age_Class_Child  Age_Class_Teenager  \\\n",
       "0                 0                0                   0   \n",
       "1                 0                0                   0   \n",
       "\n",
       "   Age_Class_Young Adult  ...  Title_Miss  Title_Mr  Title_Mrs  Title_Officer  \\\n",
       "0                      1  ...           0         1          0              0   \n",
       "1                      0  ...           0         0          1              0   \n",
       "\n",
       "   Title_Royalty  Title_Royalty_Fe  Title_Serivce  Group_Size_Alone  \\\n",
       "0              0                 0              0                 0   \n",
       "1              0                 0              0                 0   \n",
       "\n",
       "   Group_Size_Large  Group_Size_MidSize  \n",
       "0                 0                   1  \n",
       "1                 0                   1  \n",
       "\n",
       "[2 rows x 39 columns]"
      ]
     },
     "execution_count": 28,
     "metadata": {},
     "output_type": "execute_result"
    }
   ],
   "source": [
    "train, dummy_dict = full_load(train)\n",
    "holdout, ignore_ = full_load(holdout)\n",
    "\n",
    "train.head(2)"
   ]
  },
  {
   "cell_type": "code",
   "execution_count": 29,
   "metadata": {},
   "outputs": [
    {
     "data": {
      "text/plain": [
       "(37, 35)"
      ]
     },
     "execution_count": 29,
     "metadata": {},
     "output_type": "execute_result"
    }
   ],
   "source": [
    "all_train_columns = train.columns.drop(['Survived','PassengerId'])\n",
    "all_holdout_columns = holdout.columns.drop(['PassengerId'])\n",
    "len(all_train_columns), len(all_holdout_columns)"
   ]
  },
  {
   "cell_type": "code",
   "execution_count": 30,
   "metadata": {},
   "outputs": [
    {
     "name": "stdout",
     "output_type": "stream",
     "text": [
      "Columns not found in Holdout Data:  Index(['Cabin_T', 'Title_Royalty'], dtype='object')\n",
      "Columns not found in Training Data: Index([], dtype='object')\n"
     ]
    }
   ],
   "source": [
    "print( 'Columns not found in Holdout Data:  {0}'.format(all_train_columns[~all_train_columns.isin(all_holdout_columns)]))\n",
    "print( 'Columns not found in Training Data: {0}'.format(all_holdout_columns[~all_holdout_columns.isin(all_train_columns)]))"
   ]
  },
  {
   "cell_type": "markdown",
   "metadata": {},
   "source": [
    "Two columns - _Cabin_T_ and _Title_Royalty_ - are found within the training data but are missing within the (smaller subset) holdout data. These are categorised fields and so they can be added with Zero for all values. "
   ]
  },
  {
   "cell_type": "code",
   "execution_count": 31,
   "metadata": {},
   "outputs": [],
   "source": [
    "holdout['Cabin_T'] = 0\n",
    "holdout['Title_Royalty'] = 0"
   ]
  },
  {
   "cell_type": "markdown",
   "metadata": {},
   "source": [
    "# Brute force different sklearn models using all available data \n",
    "\n",
    "* __KNeighborsClassifier__\n",
    "       \n",
    "    Classification is computed from a simple majority vote of the nearest neighbors of each point: a query point is assigned the data class which has the most representatives within the nearest neighbors of the point.\n",
    "    \n",
    "    \n",
    "* __LogisticRegression__\n",
    "    \n",
    "    The probabilities describing the possible outcomes of a single trial are modeled using a logistic function.\n",
    "    Well suited for _Binary_ data, such as _Survived_ and _Died_ classifications. \n",
    "\n",
    "\n",
    "* __RandomForestClassifier__\n",
    "    \n",
    "    Individual decision trees typically exhibit high variance and tend to overfit. The injected randomness in forests yield decision trees with somewhat decoupled prediction errors. By taking an average of those predictions, some errors can cancel out.\n",
    "\n",
    "\n",
    "* __SGDClassifier__\n",
    "    \n",
    "    Stochastic Gradient Descent (SGD) is a simple yet very efficient approach to fitting linear classifiers.\n",
    "    Strictly speaking, SGD is merely an optimization technique and does not correspond to a specific family of machine learning models, it is only a way to _train_ a model.\n",
    "    \n",
    "    \n",
    "Using __GridSearchCV__ each model will be fit with numerous _hyperparameters_ thereby selecting the best version of each model."
   ]
  },
  {
   "cell_type": "code",
   "execution_count": 32,
   "metadata": {},
   "outputs": [
    {
     "name": "stdout",
     "output_type": "stream",
     "text": [
      "model: LogisticRegression\n",
      "  score:  82.49\n",
      "  params: {'solver': 'newton-cg'}\n",
      "model: KNeighborsClassifier\n",
      "  score:  82.83\n",
      "  params: {'algorithm': 'ball_tree', 'n_neighbors': 9, 'p': 2, 'weights': 'distance'}\n",
      "model: RandomForestClassifier\n",
      "  score:  83.61\n",
      "  params: {'criterion': 'gini', 'max_depth': 20, 'max_features': 'sqrt', 'min_samples_leaf': 5, 'min_samples_split': 2, 'n_estimators': 15}\n",
      "model: SGDClassifier\n",
      "  score:  82.15\n",
      "  params: {'eta0': 1, 'learning_rate': 'adaptive'}\n"
     ]
    }
   ],
   "source": [
    "from sklearn.model_selection import GridSearchCV\n",
    "from sklearn.neighbors import KNeighborsClassifier\n",
    "from sklearn.linear_model import LogisticRegression\n",
    "from sklearn.linear_model import SGDClassifier\n",
    "from sklearn.ensemble import RandomForestClassifier\n",
    "from sklearn.cluster import KMeans\n",
    "\n",
    "import warnings\n",
    "warnings.filterwarnings('ignore') # Deprecation Warnings\n",
    "\n",
    "# the various models and their hyperparameters\n",
    "sklearn_models = {        \n",
    "    \"LogisticRegression\": {\n",
    "        \"estimator\": LogisticRegression(random_state=17),\n",
    "        \"hyperparameters\":\n",
    "            {\n",
    "                \"solver\": [\"newton-cg\", \"lbfgs\", \"liblinear\"],\n",
    "            }\n",
    "    },\n",
    "    \"KNeighborsClassifier\": {            \n",
    "        \"estimator\": KNeighborsClassifier(),\n",
    "        \"hyperparameters\":\n",
    "            {\n",
    "                \"n_neighbors\": range(1,20,2),\n",
    "                \"weights\": [\"distance\", \"uniform\"],\n",
    "                \"algorithm\": [\"ball_tree\", \"kd_tree\", \"brute\"],\n",
    "                \"p\": [1,2]\n",
    "            }\n",
    "    }, \n",
    "    \"RandomForestClassifier\":\n",
    "    {\n",
    "        \"name\": \"RandomForestClassifier\",\n",
    "        \"estimator\": RandomForestClassifier(random_state=17),\n",
    "        \"hyperparameters\":\n",
    "            {\n",
    "                \"n_estimators\": [6, 9, 12, 15, 20 ],\n",
    "                \"criterion\": [\"entropy\", \"gini\"],\n",
    "                \"max_depth\": [5, 10, 15, 20, 25],\n",
    "                \"max_features\": [\"log2\", \"sqrt\"],\n",
    "                \"min_samples_leaf\" : [1, 5, 8],\n",
    "                \"min_samples_split\": [2, 3, 5],\n",
    "            }\n",
    "    },                \n",
    "    \"SGDClassifier\": {\n",
    "        \"estimator\": SGDClassifier(random_state=17),\n",
    "        \"hyperparameters\":\n",
    "            {\n",
    "                \"eta0\": [1],\n",
    "                \"learning_rate\": [\"constant\", \"optimal\", \"invscaling\", \"adaptive\"],\n",
    "            }\n",
    "    },           \n",
    "}\n",
    "    \n",
    "def select_model(df,features,model_choice=''):\n",
    "    '''loop over various models'''\n",
    "    \n",
    "    all_X = df[features]\n",
    "    all_y = df['Survived']    \n",
    "    \n",
    "    models = sklearn_models\n",
    "    \n",
    "    if model_choice != '':\n",
    "        models = {model_choice : models[model_choice]}\n",
    "    \n",
    "    for model_name, model in models.items():\n",
    "        print( 'model: {0}'.format(model_name) )\n",
    "        \n",
    "        grid = GridSearchCV(model['estimator'],param_grid=model['hyperparameters'], cv=10)\n",
    "        grid.fit(all_X,all_y)\n",
    "\n",
    "        model['best_score'] = grid.best_score_\n",
    "        model['best_params']= grid.best_params_\n",
    "        model['best_model'] = grid.best_estimator_\n",
    "\n",
    "        print( '  score:  {:.2f}'.format(grid.best_score_*100.))\n",
    "        print( '  params: {0}'.format(grid.best_params_))\n",
    "\n",
    "    return models\n",
    "\n",
    "all_columns = train.columns.drop(['Survived','PassengerId'])\n",
    "best_models = select_model(train,all_columns)"
   ]
  },
  {
   "cell_type": "markdown",
   "metadata": {},
   "source": [
    "__RandomForestClassifier__ yielded the best fit. This will be the first to be submitted to Kaggle."
   ]
  },
  {
   "cell_type": "code",
   "execution_count": 33,
   "metadata": {},
   "outputs": [],
   "source": [
    "def save_submission_file(model,features,filename):\n",
    "    '''Create a .csv file in the required format'''\n",
    "    \n",
    "    holdout_predictions = model['best_model'].predict(holdout[features])\n",
    "    \n",
    "    # Kaggle expects two Columns\n",
    "    submission = pd.DataFrame({\n",
    "                    'PassengerId': (holdout['PassengerId']),\n",
    "                    'Survived': holdout_predictions, })\n",
    "                     \n",
    "    submission.to_csv(filename,index=False)\n",
    "    return submission"
   ]
  },
  {
   "cell_type": "code",
   "execution_count": 34,
   "metadata": {},
   "outputs": [
    {
     "data": {
      "text/html": [
       "<div>\n",
       "<style scoped>\n",
       "    .dataframe tbody tr th:only-of-type {\n",
       "        vertical-align: middle;\n",
       "    }\n",
       "\n",
       "    .dataframe tbody tr th {\n",
       "        vertical-align: top;\n",
       "    }\n",
       "\n",
       "    .dataframe thead th {\n",
       "        text-align: right;\n",
       "    }\n",
       "</style>\n",
       "<table border=\"1\" class=\"dataframe\">\n",
       "  <thead>\n",
       "    <tr style=\"text-align: right;\">\n",
       "      <th></th>\n",
       "      <th>PassengerId</th>\n",
       "      <th>Survived</th>\n",
       "    </tr>\n",
       "  </thead>\n",
       "  <tbody>\n",
       "    <tr>\n",
       "      <td>414</td>\n",
       "      <td>1306</td>\n",
       "      <td>1</td>\n",
       "    </tr>\n",
       "  </tbody>\n",
       "</table>\n",
       "</div>"
      ],
      "text/plain": [
       "     PassengerId  Survived\n",
       "414         1306         1"
      ]
     },
     "execution_count": 34,
     "metadata": {},
     "output_type": "execute_result"
    }
   ],
   "source": [
    "submission = save_submission_file(best_models['RandomForestClassifier'],all_columns,'JJ_Kaggle_RFC_All_Features.csv')\n",
    "submission[submission['PassengerId'] == holdout_royal_id ]"
   ]
  },
  {
   "cell_type": "code",
   "execution_count": 35,
   "metadata": {},
   "outputs": [
    {
     "data": {
      "text/plain": [
       "((418, 2), (37,))"
      ]
     },
     "execution_count": 35,
     "metadata": {},
     "output_type": "execute_result"
    }
   ],
   "source": [
    " submission.shape, all_columns.shape"
   ]
  },
  {
   "cell_type": "markdown",
   "metadata": {},
   "source": [
    "# Optimised Features\n",
    "\n",
    "The above __RandomForestClassifier__ model yielded a _Kaggle Score_ of 76.56%. This is below the predicted score of 83.28%. \n",
    "\n",
    "However this is not too suprising. All of the available (37) columns were used in the model fitting and therefore there must have been overlapping features causing the model to overfit. \n",
    "\n",
    "Targeting a subset of features is likely to create a better _real world_ fit. Numerous dummy features were created, but we can infer each dummy feature from all other dummy features - i.e. Group Size Alone == NOT(MidSize + Large) - as the model does not know that these are mutually dependent fields, they are candidates for the cause of any overfit. \n",
    "\n",
    "Overlapping features can be expected to strongly correlate with each other. The below is a heatmap of the correlation for each:"
   ]
  },
  {
   "cell_type": "code",
   "execution_count": 36,
   "metadata": {},
   "outputs": [
    {
     "data": {
      "text/plain": [
       "<matplotlib.axes._subplots.AxesSubplot at 0x7fc55a826050>"
      ]
     },
     "execution_count": 36,
     "metadata": {},
     "output_type": "execute_result"
    },
    {
     "data": {
      "image/png": "[encoded data removed]",
      "text/plain": [
       "<Figure size 1440x1440 with 2 Axes>"
      ]
     },
     "metadata": {},
     "output_type": "display_data"
    }
   ],
   "source": [
    "import seaborn as sns\n",
    "\n",
    "correlation_cols = list(all_columns)\n",
    "correlation_cols.append('Survived')\n",
    "\n",
    "corr = train[correlation_cols].corr()\n",
    "\n",
    "sns.set(style=\"white\")\n",
    "mask = np.zeros_like(corr, dtype=np.bool)\n",
    "mask[np.triu_indices_from(mask)] = True\n",
    "\n",
    "f, ax = plt.subplots(figsize=(20, 20))\n",
    "cmap = sns.diverging_palette(220, 10, as_cmap=True)\n",
    "\n",
    "sns.heatmap(corr, mask=mask, cmap=cmap, vmax=.3, center=0,\n",
    "        square=True, linewidths=.5, cbar_kws={\"shrink\": .5})"
   ]
  },
  {
   "cell_type": "markdown",
   "metadata": {},
   "source": [
    "Drop one Dummy Feature from each parent feature. Choosing the dummy feature that correlates least well with __Survived__:"
   ]
  },
  {
   "cell_type": "code",
   "execution_count": 37,
   "metadata": {},
   "outputs": [
    {
     "name": "stdout",
     "output_type": "stream",
     "text": [
      "Dropping column 'Pclass_2, least well correlated from dummy parent set: 'Pclass'\n",
      "Dropping column 'Age_Class_Young Adult, least well correlated from dummy parent set: 'Age_Class'\n",
      "Dropping column 'Cabin_G, least well correlated from dummy parent set: 'Cabin'\n",
      "Dropping column 'Fare_12-50, least well correlated from dummy parent set: 'Fare'\n",
      "Dropping column 'Embarked_Q, least well correlated from dummy parent set: 'Embarked'\n",
      "Dropping column 'Title_Officer, least well correlated from dummy parent set: 'Title'\n",
      "Dropping column 'Group_Size_Large, least well correlated from dummy parent set: 'Group_Size'\n",
      "\n",
      "Initial count: 37, New feature count: 30\n"
     ]
    }
   ],
   "source": [
    "corr = train[correlation_cols].corr()['Survived']\n",
    "\n",
    "new_selected_cols = all_columns.copy()\n",
    "\n",
    "for parent_col in dummy_dict:\n",
    "    dummy_cols = dummy_dict[parent_col]\n",
    "    least_corr = corr[dummy_cols].abs().idxmin(axis=1)\n",
    "    \n",
    "    new_selected_cols = new_selected_cols.drop(least_corr)    \n",
    "    print(\"Dropping column '{0}, least well correlated from dummy parent set: '{1}'\".format(least_corr, parent_col)) \n",
    "\n",
    "print(\"\\nInitial count: {0}, New feature count: {1}\".format(all_columns.shape[0], new_selected_cols.shape[0]))"
   ]
  },
  {
   "cell_type": "markdown",
   "metadata": {},
   "source": [
    "Refit the model using the subset of 30 features. \n",
    "\n",
    "Note: other features still correlate well to each other and may suggest cause for overfitting - e.g. __Cabin_UKN__ is very well correlated to __Pcalss_1__ (perhaps 1st class tickets do not define Cabins) and yet both of these remain in the new subset. We may return to this later. "
   ]
  },
  {
   "cell_type": "code",
   "execution_count": 38,
   "metadata": {},
   "outputs": [
    {
     "name": "stdout",
     "output_type": "stream",
     "text": [
      "model: LogisticRegression\n",
      "  score:  82.49\n",
      "  params: {'solver': 'newton-cg'}\n",
      "model: KNeighborsClassifier\n",
      "  score:  82.72\n",
      "  params: {'algorithm': 'brute', 'n_neighbors': 9, 'p': 2, 'weights': 'distance'}\n",
      "model: RandomForestClassifier\n",
      "  score:  83.16\n",
      "  params: {'criterion': 'gini', 'max_depth': 10, 'max_features': 'sqrt', 'min_samples_leaf': 1, 'min_samples_split': 3, 'n_estimators': 20}\n",
      "model: SGDClassifier\n",
      "  score:  81.82\n",
      "  params: {'eta0': 1, 'learning_rate': 'invscaling'}\n"
     ]
    }
   ],
   "source": [
    "best_models = select_model(train,new_selected_cols)"
   ]
  },
  {
   "cell_type": "code",
   "execution_count": 39,
   "metadata": {},
   "outputs": [
    {
     "data": {
      "text/html": [
       "<div>\n",
       "<style scoped>\n",
       "    .dataframe tbody tr th:only-of-type {\n",
       "        vertical-align: middle;\n",
       "    }\n",
       "\n",
       "    .dataframe tbody tr th {\n",
       "        vertical-align: top;\n",
       "    }\n",
       "\n",
       "    .dataframe thead th {\n",
       "        text-align: right;\n",
       "    }\n",
       "</style>\n",
       "<table border=\"1\" class=\"dataframe\">\n",
       "  <thead>\n",
       "    <tr style=\"text-align: right;\">\n",
       "      <th></th>\n",
       "      <th>PassengerId</th>\n",
       "      <th>Survived</th>\n",
       "    </tr>\n",
       "  </thead>\n",
       "  <tbody>\n",
       "    <tr>\n",
       "      <td>414</td>\n",
       "      <td>1306</td>\n",
       "      <td>1</td>\n",
       "    </tr>\n",
       "  </tbody>\n",
       "</table>\n",
       "</div>"
      ],
      "text/plain": [
       "     PassengerId  Survived\n",
       "414         1306         1"
      ]
     },
     "execution_count": 39,
     "metadata": {},
     "output_type": "execute_result"
    }
   ],
   "source": [
    "submission = save_submission_file(best_models['RandomForestClassifier'],new_selected_cols,'JJ_Kaggle_RFC_Reduced_Features_30.csv')\n",
    "submission[submission['PassengerId'] == holdout_royal_id ]"
   ]
  },
  {
   "cell_type": "markdown",
   "metadata": {},
   "source": [
    "The score has improved from 76.56% using all features, increasing to 77.99% using the reduced features - or rather, 3/209 (note: not 418 as per Kaggle) additional correctly made predictions. Optimising the features further may add improvements. \n",
    "# Automated feature selection via RFECV\n",
    "\n",
    "The scikit-learn RFECV will use recursive feature elimination (RFE) to select features by recursively considering smaller and smaller sets of features. The features are recursively pruned until the desired number of features to select is eventually reached."
   ]
  },
  {
   "cell_type": "code",
   "execution_count": 40,
   "metadata": {},
   "outputs": [],
   "source": [
    "from sklearn.feature_selection import RFECV \n",
    "\n",
    "def select_features(df,model_choice,pre_screen_cols=[]):\n",
    "    '''Use sklearn.feature_selection (RFECV)\n",
    "    Given an external estimator that assigns weights to features (e.g., the coefficients of a linear model), \n",
    "    recursive feature elimination (RFE) is to select features by recursively considering smaller and smaller \n",
    "    sets of features.'''\n",
    "    \n",
    "    # remove non-numeric columns (should be Zero)\n",
    "    df = df.select_dtypes(exclude=['object','category'])\n",
    "    \n",
    "    # get feature columns; exclude unique 'PassengerId' and target col     \n",
    "    all_X = df.iloc[:,~df.columns.isin(['Survived','PassengerId'])]\n",
    "    all_y = df['Survived']\n",
    "    \n",
    "    if len(pre_screen_cols):\n",
    "        all_X = all_X[pre_screen_cols]\n",
    "    \n",
    "    selector = RFECV(model_choice,cv=20)\n",
    "    \n",
    "    selector.fit(all_X,all_y)\n",
    "    best_columns = all_X.columns[selector.support_]\n",
    "    all_columns  = all_X.columns\n",
    "    print(\"Best Features \\n\"+\"-\"*12+\"\\n{}\\n\".format(list(best_columns)))\n",
    "\n",
    "    print(\"Best Features selection has excluded {0} features from full set of {1} columns - {2} features remain\\n\".format(\n",
    "        all_columns.shape[0]-best_columns.shape[0], all_columns.shape[0], best_columns.shape[0]))\n",
    "\n",
    "    print(\"Excluded Features:\\n\"+\"-\"*12+\"\\n{}\\n\".format(list(all_columns[~all_columns.isin(best_columns)])))\n",
    "                        \n",
    "    return best_columns #, all_X, all_y, df.copy() "
   ]
  },
  {
   "cell_type": "code",
   "execution_count": 41,
   "metadata": {},
   "outputs": [
    {
     "name": "stdout",
     "output_type": "stream",
     "text": [
      "Best Features \n",
      "------------\n",
      "['Pclass_3', 'Cabin_UKN', 'Fare_0-12', 'Title_Miss', 'Title_Mr', 'Title_Mrs', 'Group_Size_MidSize']\n",
      "\n",
      "Best Features selection has excluded 30 features from full set of 37 columns - 7 features remain\n",
      "\n",
      "Excluded Features:\n",
      "------------\n",
      "['Pclass_1', 'Pclass_2', 'Age_Class_Missing', 'Age_Class_Infant', 'Age_Class_Child', 'Age_Class_Teenager', 'Age_Class_Young Adult', 'Age_Class_Adult', 'Age_Class_Senior', 'Cabin_A', 'Cabin_B', 'Cabin_C', 'Cabin_D', 'Cabin_E', 'Cabin_F', 'Cabin_G', 'Cabin_T', 'Fare_12-50', 'Fare_50-100', 'Fare_100+', 'Embarked_C', 'Embarked_Q', 'Embarked_S', 'Title_Master', 'Title_Officer', 'Title_Royalty', 'Title_Royalty_Fe', 'Title_Serivce', 'Group_Size_Alone', 'Group_Size_Large']\n",
      "\n"
     ]
    }
   ],
   "source": [
    "best_columns_rfc = select_features(train, RandomForestClassifier(random_state=17))"
   ]
  },
  {
   "cell_type": "markdown",
   "metadata": {},
   "source": [
    "The RFECV feature selection has significantly reduced the number of features from 37 to 7 features. \n",
    "\n",
    "Note: No difference in feature selection if we use the default model or chose the best fit model to then determine the best feature selection:"
   ]
  },
  {
   "cell_type": "code",
   "execution_count": 42,
   "metadata": {},
   "outputs": [
    {
     "name": "stdout",
     "output_type": "stream",
     "text": [
      "Best Features \n",
      "------------\n",
      "['Pclass_3', 'Cabin_UKN', 'Fare_0-12', 'Title_Miss', 'Title_Mr', 'Title_Mrs', 'Group_Size_MidSize']\n",
      "\n",
      "Best Features selection has excluded 30 features from full set of 37 columns - 7 features remain\n",
      "\n",
      "Excluded Features:\n",
      "------------\n",
      "['Pclass_1', 'Pclass_2', 'Age_Class_Missing', 'Age_Class_Infant', 'Age_Class_Child', 'Age_Class_Teenager', 'Age_Class_Young Adult', 'Age_Class_Adult', 'Age_Class_Senior', 'Cabin_A', 'Cabin_B', 'Cabin_C', 'Cabin_D', 'Cabin_E', 'Cabin_F', 'Cabin_G', 'Cabin_T', 'Fare_12-50', 'Fare_50-100', 'Fare_100+', 'Embarked_C', 'Embarked_Q', 'Embarked_S', 'Title_Master', 'Title_Officer', 'Title_Royalty', 'Title_Royalty_Fe', 'Title_Serivce', 'Group_Size_Alone', 'Group_Size_Large']\n",
      "\n"
     ]
    }
   ],
   "source": [
    "best_columns_rfc = select_features(train, best_models['RandomForestClassifier']['estimator'])"
   ]
  },
  {
   "cell_type": "markdown",
   "metadata": {},
   "source": [
    "Next we produce a final workflow to determine the best fit features for each model (via RFECV). Then find the best version of that model (via GridSearchCV) and generate the final results."
   ]
  },
  {
   "cell_type": "code",
   "execution_count": 43,
   "metadata": {},
   "outputs": [],
   "source": [
    "def fit_and_submit(model_name,filename):\n",
    "    '''Run a mode through select_features() to obtain the optimised column selection\n",
    "    and then optimise the model itself via select_model()'''\n",
    "    \n",
    "    target_model = sklearn_models[model_name]['estimator']\n",
    "    \n",
    "    # find best fit features. \n",
    "    best_columns = select_features(train, target_model)\n",
    "        \n",
    "    # get the best version of this model using the optimised features\n",
    "    best_models = select_model(train, best_columns, model_name)    \n",
    "    best_model  = best_models[model_name]\n",
    "    \n",
    "    submission  = save_submission_file(best_model,best_columns,filename)\n",
    "        \n",
    "    print('\\nholdout_royal_id:\\n{}'.format(submission[submission['PassengerId'] == holdout_royal_id]))\n",
    "    \n",
    "    assert( submission.shape[0] == 418 )\n",
    "    \n",
    "    return best_columns"
   ]
  },
  {
   "cell_type": "code",
   "execution_count": 44,
   "metadata": {},
   "outputs": [
    {
     "name": "stdout",
     "output_type": "stream",
     "text": [
      "Best Features \n",
      "------------\n",
      "['Pclass_3', 'Cabin_UKN', 'Fare_0-12', 'Title_Miss', 'Title_Mr', 'Title_Mrs', 'Group_Size_MidSize']\n",
      "\n",
      "Best Features selection has excluded 30 features from full set of 37 columns - 7 features remain\n",
      "\n",
      "Excluded Features:\n",
      "------------\n",
      "['Pclass_1', 'Pclass_2', 'Age_Class_Missing', 'Age_Class_Infant', 'Age_Class_Child', 'Age_Class_Teenager', 'Age_Class_Young Adult', 'Age_Class_Adult', 'Age_Class_Senior', 'Cabin_A', 'Cabin_B', 'Cabin_C', 'Cabin_D', 'Cabin_E', 'Cabin_F', 'Cabin_G', 'Cabin_T', 'Fare_12-50', 'Fare_50-100', 'Fare_100+', 'Embarked_C', 'Embarked_Q', 'Embarked_S', 'Title_Master', 'Title_Officer', 'Title_Royalty', 'Title_Royalty_Fe', 'Title_Serivce', 'Group_Size_Alone', 'Group_Size_Large']\n",
      "\n",
      "model: RandomForestClassifier\n",
      "  score:  83.50\n",
      "  params: {'criterion': 'gini', 'max_depth': 10, 'max_features': 'log2', 'min_samples_leaf': 5, 'min_samples_split': 2, 'n_estimators': 20}\n",
      "\n",
      "holdout_royal_id:\n",
      "     PassengerId  Survived\n",
      "414         1306         1\n"
     ]
    }
   ],
   "source": [
    "best_columns_rfc = fit_and_submit('RandomForestClassifier','JJ_Kaggle_RFC_RFECV.csv')"
   ]
  },
  {
   "cell_type": "markdown",
   "metadata": {},
   "source": [
    "Using just the 7 best fit features yields a new Kaggle Score of 79.43% - which is a further 3 additional correct predictions. \n",
    "\n",
    "Running the same optimised rfc features through the the select_model() did not improve RandomForestClassifier() estimated score in comparison to the manaully reduced features. However it improved the estimated score for the KNeighborsClassifier() to almost a tie - and reduced the LogisticRegression() score. \n",
    "\n",
    "As a final test, each model should be fit with the best features that are derived for each specific model. From these optimsed features the best version (set of hyperparameters) for each model will then be chosen."
   ]
  },
  {
   "cell_type": "code",
   "execution_count": 45,
   "metadata": {},
   "outputs": [
    {
     "name": "stdout",
     "output_type": "stream",
     "text": [
      "LogisticRegression: -----------------------\n",
      "\n",
      "Best Features \n",
      "------------\n",
      "['Cabin_UKN', 'Title_Master', 'Title_Miss', 'Title_Mrs', 'Group_Size_Large']\n",
      "\n",
      "Best Features selection has excluded 32 features from full set of 37 columns - 5 features remain\n",
      "\n",
      "Excluded Features:\n",
      "------------\n",
      "['Pclass_1', 'Pclass_2', 'Pclass_3', 'Age_Class_Missing', 'Age_Class_Infant', 'Age_Class_Child', 'Age_Class_Teenager', 'Age_Class_Young Adult', 'Age_Class_Adult', 'Age_Class_Senior', 'Cabin_A', 'Cabin_B', 'Cabin_C', 'Cabin_D', 'Cabin_E', 'Cabin_F', 'Cabin_G', 'Cabin_T', 'Fare_0-12', 'Fare_12-50', 'Fare_50-100', 'Fare_100+', 'Embarked_C', 'Embarked_Q', 'Embarked_S', 'Title_Mr', 'Title_Officer', 'Title_Royalty', 'Title_Royalty_Fe', 'Title_Serivce', 'Group_Size_Alone', 'Group_Size_MidSize']\n",
      "\n",
      "model: LogisticRegression\n",
      "  score:  82.94\n",
      "  params: {'solver': 'newton-cg'}\n",
      "\n",
      "holdout_royal_id:\n",
      "     PassengerId  Survived\n",
      "414         1306         0\n",
      "\n",
      "\n",
      "SGDClassifier: -----------------------\n",
      "\n",
      "Best Features \n",
      "------------\n",
      "['Age_Class_Senior', 'Cabin_D', 'Cabin_E', 'Cabin_G', 'Cabin_T', 'Cabin_UKN', 'Title_Master', 'Title_Miss', 'Title_Mr', 'Title_Mrs', 'Title_Officer', 'Title_Royalty', 'Title_Serivce', 'Group_Size_Large']\n",
      "\n",
      "Best Features selection has excluded 23 features from full set of 37 columns - 14 features remain\n",
      "\n",
      "Excluded Features:\n",
      "------------\n",
      "['Pclass_1', 'Pclass_2', 'Pclass_3', 'Age_Class_Missing', 'Age_Class_Infant', 'Age_Class_Child', 'Age_Class_Teenager', 'Age_Class_Young Adult', 'Age_Class_Adult', 'Cabin_A', 'Cabin_B', 'Cabin_C', 'Cabin_F', 'Fare_0-12', 'Fare_12-50', 'Fare_50-100', 'Fare_100+', 'Embarked_C', 'Embarked_Q', 'Embarked_S', 'Title_Royalty_Fe', 'Group_Size_Alone', 'Group_Size_MidSize']\n",
      "\n",
      "model: SGDClassifier\n",
      "  score:  82.27\n",
      "  params: {'eta0': 1, 'learning_rate': 'invscaling'}\n",
      "\n",
      "holdout_royal_id:\n",
      "     PassengerId  Survived\n",
      "414         1306         1\n"
     ]
    }
   ],
   "source": [
    "print('LogisticRegression: -----------------------\\n')\n",
    "best_columns_lr  = fit_and_submit('LogisticRegression', 'JJ_Kaggle_LR_RFECV.csv')\n",
    "\n",
    "print('\\n\\nSGDClassifier: -----------------------\\n')\n",
    "best_columns_sgd = fit_and_submit('SGDClassifier', 'JJ_Kaggle_SGD_RFECV.csv')"
   ]
  },
  {
   "cell_type": "markdown",
   "metadata": {},
   "source": [
    "KNeighbors isn't supported within the RFECV framework (See [discussion](https://github.com/scikit-learn/scikit-learn/issues/6920)). \n",
    "\n",
    "Instead try use the best version from the prior feature selections:"
   ]
  },
  {
   "cell_type": "code",
   "execution_count": 46,
   "metadata": {},
   "outputs": [
    {
     "name": "stdout",
     "output_type": "stream",
     "text": [
      "\n",
      "\n",
      "Fitting Reduced_Features (30 features): -----------------------\n",
      "model: KNeighborsClassifier\n",
      "  score:  82.72\n",
      "  params: {'algorithm': 'brute', 'n_neighbors': 9, 'p': 2, 'weights': 'distance'}\n",
      "New best KNeighborsClassifier score: 82.72\n",
      "\n",
      "\n",
      "Fitting RFC_Features (7 features): -----------------------\n",
      "model: KNeighborsClassifier\n",
      "  score:  83.39\n",
      "  params: {'algorithm': 'brute', 'n_neighbors': 19, 'p': 1, 'weights': 'distance'}\n",
      "New best KNeighborsClassifier score: 83.39\n",
      "\n",
      "\n",
      "Fitting LR_Features (5 features): -----------------------\n",
      "model: KNeighborsClassifier\n",
      "  score:  83.39\n",
      "  params: {'algorithm': 'ball_tree', 'n_neighbors': 9, 'p': 1, 'weights': 'distance'}\n",
      "\n",
      "\n",
      "Fitting SGD_Features (14 features): -----------------------\n",
      "model: KNeighborsClassifier\n",
      "  score:  83.61\n",
      "  params: {'algorithm': 'kd_tree', 'n_neighbors': 17, 'p': 1, 'weights': 'uniform'}\n",
      "New best KNeighborsClassifier score: 83.61\n"
     ]
    }
   ],
   "source": [
    "RFECV_cols = {\n",
    "    \"Reduced_Features\": new_selected_cols,\n",
    "    \"RFC_Features\": best_columns_rfc,\n",
    "    \"LR_Features\": best_columns_lr,\n",
    "    \"SGD_Features\": best_columns_sgd,    \n",
    "}\n",
    "\n",
    "best_KN_model = {'best_score':-1}\n",
    "best_KN_columns = []\n",
    "best_KN_desc = ''\n",
    "\n",
    "for feature_desc in RFECV_cols:\n",
    "    target_KN_features = RFECV_cols[feature_desc]\n",
    "    print('\\n\\nFitting {0} ({1} features): -----------------------'.format(feature_desc,len(target_KN_features)))\n",
    "        \n",
    "    target_KN_models = select_model(train,target_KN_features,model_choice='KNeighborsClassifier')\n",
    "    target_KN_model  = target_KN_models['KNeighborsClassifier']\n",
    "        \n",
    "    if target_KN_model['best_score'] > best_KN_model['best_score']:\n",
    "        print( 'New best KNeighborsClassifier score: {:.2f}'.format(100*target_KN_model['best_score']))\n",
    "        best_KN_model = target_KN_model.copy()\n",
    "        best_KN_columns = target_KN_features.copy()\n",
    "        best_KN_desc = feature_desc"
   ]
  },
  {
   "cell_type": "code",
   "execution_count": 47,
   "metadata": {},
   "outputs": [
    {
     "name": "stdout",
     "output_type": "stream",
     "text": [
      "using 14 features from SGD_Features that yielded best KNeighborsClassifier score: 83.61\n"
     ]
    },
    {
     "data": {
      "text/html": [
       "<div>\n",
       "<style scoped>\n",
       "    .dataframe tbody tr th:only-of-type {\n",
       "        vertical-align: middle;\n",
       "    }\n",
       "\n",
       "    .dataframe tbody tr th {\n",
       "        vertical-align: top;\n",
       "    }\n",
       "\n",
       "    .dataframe thead th {\n",
       "        text-align: right;\n",
       "    }\n",
       "</style>\n",
       "<table border=\"1\" class=\"dataframe\">\n",
       "  <thead>\n",
       "    <tr style=\"text-align: right;\">\n",
       "      <th></th>\n",
       "      <th>PassengerId</th>\n",
       "      <th>Survived</th>\n",
       "    </tr>\n",
       "  </thead>\n",
       "  <tbody>\n",
       "    <tr>\n",
       "      <td>414</td>\n",
       "      <td>1306</td>\n",
       "      <td>1</td>\n",
       "    </tr>\n",
       "  </tbody>\n",
       "</table>\n",
       "</div>"
      ],
      "text/plain": [
       "     PassengerId  Survived\n",
       "414         1306         1"
      ]
     },
     "execution_count": 47,
     "metadata": {},
     "output_type": "execute_result"
    }
   ],
   "source": [
    "print('using {0} features from {1} that yielded best KNeighborsClassifier score: {2:.2f}'.format(\n",
    "    len(best_KN_columns), best_KN_desc, 100*best_KN_model['best_score']))\n",
    "submission = save_submission_file(best_KN_model,best_KN_columns,'JJ_Kaggle_KN_'+ best_KN_desc + '.csv')\n",
    "submission[submission['PassengerId'] == holdout_royal_id ]"
   ]
  },
  {
   "cell_type": "markdown",
   "metadata": {},
   "source": [
    "# Summary and final scores\n",
    "\n",
    "Kaggle supply a [How am I doing with my score](https://www.kaggle.com/pliptor/how-am-i-doing-with-my-score/report) for this challenge. \n",
    "\n",
    "With a score of 79.43% the _RandomForestClassifier (RFECV)_ model beats many of the more vanila models - including the closet comparion: _Gender + Class + FamilySize + Age using Decision Tree_ (Score: 78.95%).\n",
    "\n",
    "| Position | Model | Predicted Score | Kaggle Score | Correct Predictions (out of 209) | HoldOut Royal\n",
    "| --- | --- | --- | --- | --- | --- | \n",
    "| 1 | RandomForestClassifier (RFECV) | 83.50 | 79.43 | 166 | Survived\n",
    "| 2 | LogisticRegression (RFECV) | 82.94 | 78.95 | 165 | Died\n",
    "| 3 | SGDClassifier (RFECV) | 82.27 | 77.99 | 163 | Survived\n",
    "| - | RandomForestClassifier (Reduced Features) | 83.50 | 77.99 | 163 | Survived\n",
    "| - | KNeighborsClassifier (SGD RFECV) | 83.61 | 77.99 | 163 | Survived\n",
    "| 6 | RandomForestClassifier (All Features) | 83.61 | 76.56 | 160 | Survived\n",
    "\n",
    "Interestingly the estimated score for the final _RandomForestClassifier (RFECV)_ model did not beat the estimated score for the initial _RandomForestClassifier (All Features)_ model. However we did expect this model to overfit and so this should not be a suprise. \n",
    "\n",
    "In 2nd place _LogisticRegression (RFECV)_ was 1 prediction short of tying for 1st place but yielded a much tighter score spread (estimated score vs final score) than did _RandomForestClassifier (RFECV)_. This was also the only model that predicted the death of the _holdout_royal_id_ (see below).\n",
    "\n",
    "_KNeighborsClassifier (SGD RFECV)_ was tied 3rd for the final score but produced a much wider score spread. kNN requires that the features are properly scaled. As all features were converted to dummy categories further emphasis on scaling may improve this discrepancy. \n",
    "\n",
    "## holdout_royal_id \n",
    "This was the single _royal female_ passenger in the holdout data. Only the __LogisticRegression__ model predicted her death..."
   ]
  },
  {
   "cell_type": "code",
   "execution_count": 48,
   "metadata": {},
   "outputs": [
    {
     "data": {
      "text/html": [
       "<div>\n",
       "<style scoped>\n",
       "    .dataframe tbody tr th:only-of-type {\n",
       "        vertical-align: middle;\n",
       "    }\n",
       "\n",
       "    .dataframe tbody tr th {\n",
       "        vertical-align: top;\n",
       "    }\n",
       "\n",
       "    .dataframe thead th {\n",
       "        text-align: right;\n",
       "    }\n",
       "</style>\n",
       "<table border=\"1\" class=\"dataframe\">\n",
       "  <thead>\n",
       "    <tr style=\"text-align: right;\">\n",
       "      <th></th>\n",
       "      <th>PassengerId</th>\n",
       "      <th>Pclass</th>\n",
       "      <th>Name</th>\n",
       "      <th>Sex</th>\n",
       "      <th>Age</th>\n",
       "      <th>SibSp</th>\n",
       "      <th>Parch</th>\n",
       "      <th>Ticket</th>\n",
       "      <th>Fare</th>\n",
       "      <th>Cabin</th>\n",
       "      <th>Embarked</th>\n",
       "      <th>Title</th>\n",
       "    </tr>\n",
       "  </thead>\n",
       "  <tbody>\n",
       "    <tr>\n",
       "      <td>414</td>\n",
       "      <td>1306</td>\n",
       "      <td>1</td>\n",
       "      <td>Oliva y Ocana, Dona. Fermina</td>\n",
       "      <td>female</td>\n",
       "      <td>39.0</td>\n",
       "      <td>0</td>\n",
       "      <td>0</td>\n",
       "      <td>PC 17758</td>\n",
       "      <td>108.9</td>\n",
       "      <td>C105</td>\n",
       "      <td>C</td>\n",
       "      <td>Royalty</td>\n",
       "    </tr>\n",
       "  </tbody>\n",
       "</table>\n",
       "</div>"
      ],
      "text/plain": [
       "     PassengerId  Pclass                          Name     Sex   Age  SibSp  \\\n",
       "414         1306       1  Oliva y Ocana, Dona. Fermina  female  39.0      0   \n",
       "\n",
       "     Parch    Ticket   Fare Cabin Embarked    Title  \n",
       "414      0  PC 17758  108.9  C105        C  Royalty  "
      ]
     },
     "execution_count": 48,
     "metadata": {},
     "output_type": "execute_result"
    }
   ],
   "source": [
    "holdout_pre[holdout_pre['PassengerId'] == holdout_royal_id ]"
   ]
  },
  {
   "cell_type": "markdown",
   "metadata": {},
   "source": [
    "[Doña Fermina Oliva y Ocana](https://www.encyclopedia-titanica.org/titanic-survivor/fermina-oliva-y-ocana.html), 39, was born on 12 October 1872, in Madrid, Spain.\n",
    "She boarded the Titanic at Cherbourg as maid to Mrs Victor de Satode Peñasco y Castellana.\n",
    "__They were rescued in lifeboat 8.__\n",
    "She died May 28, 1969 in Spain having never married. \n",
    "\n"
   ]
  },
  {
   "cell_type": "markdown",
   "metadata": {},
   "source": [
    "RandomForestClassifier beat LogisticRegression by only one prediction. However, as dicussed in the Kaggle competition webpage, the scoring of the holdout data is performed on only half (209/418) passengers. \n",
    "\n",
    "Therefore Doña Fermina Oliva y Ocana may not be the reason that the LogisticRegression model didn't tie with the RandomForestClassifier model (or actually beat it, since the LR model had the tighter score spread). However it does highlight a interesting starting point for model refinement and to see where else LogisticRegression and RandomForestClassifier diverged. "
   ]
  }
 ],
 "metadata": {
  "kernelspec": {
   "display_name": "Python 3",
   "language": "python",
   "name": "python3"
  },
  "language_info": {
   "codemirror_mode": {
    "name": "ipython",
    "version": 3
   },
   "file_extension": ".py",
   "mimetype": "text/x-python",
   "name": "python",
   "nbconvert_exporter": "python",
   "pygments_lexer": "ipython3",
   "version": "3.7.3"
  }
 },
 "nbformat": 4,
 "nbformat_minor": 2
}
